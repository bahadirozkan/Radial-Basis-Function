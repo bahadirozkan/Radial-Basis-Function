{
  "nbformat": 4,
  "nbformat_minor": 0,
  "metadata": {
    "colab": {
      "name": "ANN Hw1 v3.ipynb",
      "provenance": [],
      "collapsed_sections": []
    },
    "kernelspec": {
      "name": "python3",
      "display_name": "Python 3"
    }
  },
  "cells": [
    {
      "cell_type": "code",
      "metadata": {
        "id": "LQ2IDs7SzgH3",
        "colab_type": "code",
        "outputId": "d8587c9c-f6ea-47c7-ab39-7a8df27db886",
        "colab": {
          "resources": {
            "http://localhost:8080/nbextensions/google.colab/files.js": {
              "data": "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",
              "ok": true,
              "headers": [
                [
                  "content-type",
                  "application/javascript"
                ]
              ],
              "status": 200,
              "status_text": "OK"
            }
          },
          "base_uri": "https://localhost:8080/",
          "height": 108
        }
      },
      "source": [
        "import pandas as pd\n",
        "import numpy as np\n",
        "import matplotlib.pyplot as plt\n",
        "\n",
        "'''\n",
        "# for colab use\n",
        "from google.colab import files\n",
        "uploaded = files.upload()\n",
        "'''\n",
        "\n",
        "df_train = pd.read_csv('d_reg_tra.txt',sep='\\s+',names=[\"X\",\"y\"])\n",
        "df_val = pd.read_csv('d_reg_val.txt',sep='\\s+',names=[\"X\",\"y\"])"
      ],
      "execution_count": 0,
      "outputs": [
        {
          "output_type": "display_data",
          "data": {
            "text/html": [
              "\n",
              "     <input type=\"file\" id=\"files-1e079147-7c27-4c46-911a-e51d261c3ea8\" name=\"files[]\" multiple disabled />\n",
              "     <output id=\"result-1e079147-7c27-4c46-911a-e51d261c3ea8\">\n",
              "      Upload widget is only available when the cell has been executed in the\n",
              "      current browser session. Please rerun this cell to enable.\n",
              "      </output>\n",
              "      <script src=\"/nbextensions/google.colab/files.js\"></script> "
            ],
            "text/plain": [
              "<IPython.core.display.HTML object>"
            ]
          },
          "metadata": {
            "tags": []
          }
        },
        {
          "output_type": "stream",
          "text": [
            "Saving d_reg_val.txt to d_reg_val (1).txt\n",
            "Saving d_reg_tra.txt to d_reg_tra (1).txt\n"
          ],
          "name": "stdout"
        }
      ]
    },
    {
      "cell_type": "code",
      "metadata": {
        "id": "8UNI5QvBzkRu",
        "colab_type": "code",
        "outputId": "ae47eaf0-8c50-4000-a5f8-5c194a637727",
        "colab": {
          "base_uri": "https://localhost:8080/",
          "height": 295
        }
      },
      "source": [
        "# visualize the train and validation data\n",
        "plt.figure(figsize=(15,10))\n",
        "plt.subplot(221)\n",
        "plt.scatter(df_train['X'],df_train['y'], c='b')\n",
        "plt.subplot(222)\n",
        "plt.scatter(df_val['X'],df_val['y'], c='g')\n",
        "plt.show()"
      ],
      "execution_count": 0,
      "outputs": [
        {
          "output_type": "display_data",
          "data": {
            "image/png": "[encoded data removed]",
            "text/plain": [
              "<Figure size 1080x720 with 2 Axes>"
            ]
          },
          "metadata": {
            "tags": [],
            "needs_background": "light"
          }
        }
      ]
    },
    {
      "cell_type": "code",
      "metadata": {
        "id": "7r_5N1UP2s3_",
        "colab_type": "code",
        "colab": {}
      },
      "source": [
        "# choose random initial centroids for k clusters\n",
        "def select_centers(X,k):\n",
        "    ran_args = np.random.choice(len(X),k)\n",
        "    centers = X[ran_args]\n",
        "\n",
        "    return centers"
      ],
      "execution_count": 0,
      "outputs": []
    },
    {
      "cell_type": "code",
      "metadata": {
        "id": "_c76IpHb2ux_",
        "colab_type": "code",
        "colab": {}
      },
      "source": [
        "# 1D kmeans\n",
        "def kmeans(points,K):\n",
        "  centroids = select_centers(points,K)\n",
        "  classifications = np.zeros((len(points)), dtype=np.int)\n",
        "  \n",
        "  for i in range(10):\n",
        "    # Assign each point to its nearest centroid. Store this in classifications,\n",
        "    # where each element will be an int from 0 to K-1.\n",
        "\n",
        "    for i in range(points.shape[0]):\n",
        "      smallestDistance = 0\n",
        "      for k in range(K):\n",
        "        distance = abs(points[i] - centroids[k])\n",
        "        if k == 0:\n",
        "          smallestDistance = distance\n",
        "          classifications[i] = k\n",
        "        elif distance < smallestDistance:\n",
        "          smallestDistance = distance\n",
        "          classifications[i] = k\n",
        "\n",
        "    # recalculate the centroid of a cluster.\n",
        "    for k in range(K):\n",
        "      if sum(classifications == k) > 0:\n",
        "        centroids[k] = sum(points[classifications == k]) / sum(classifications == k)\n",
        "\n",
        "  return centroids"
      ],
      "execution_count": 0,
      "outputs": []
    },
    {
      "cell_type": "code",
      "metadata": {
        "id": "UpIJbUG625hH",
        "colab_type": "code",
        "colab": {}
      },
      "source": [
        "# Gives a constant spread value provided from all cluster centroids\n",
        "def find_spread(cluster_means):\n",
        "    max_dist = 0\n",
        "    for i in cluster_means:\n",
        "        for j in range(len(cluster_means)):\n",
        "            # print(l)\n",
        "            # print(cluster_means[j])\n",
        "            s = np.sqrt(np.sum((i - cluster_means[j])**2))\n",
        "            # print('s:',s)\n",
        "            if s > max_dist:\n",
        "                max_dist = s\n",
        "    return max_dist/np.sqrt(len(cluster_means))"
      ],
      "execution_count": 0,
      "outputs": []
    },
    {
      "cell_type": "code",
      "metadata": {
        "id": "Smwk05ufcdwI",
        "colab_type": "code",
        "colab": {}
      },
      "source": [
        "# plot the trained RBF on the original points\n",
        "def plot(X,y,y_pred,k,train):\n",
        "  plt.scatter(X, y, c='c',label='actual')\n",
        "  plt.scatter(X, y_pred, c='m', marker='^', label='w*ph')\n",
        "  plt.grid(True)\n",
        "  if train == True:\n",
        "    title = 'Actual vs w*ph for k:{} on Train Data:'.format(k)\n",
        "  else:\n",
        "    title = 'Actual vs w*ph for k:{} on Val. Data:'.format(k)\n",
        "  plt.title(title)\n",
        "  plt.xlabel('X')\n",
        "  plt.ylabel('y')\n",
        "  plt.legend()\n",
        "  plt.show()"
      ],
      "execution_count": 0,
      "outputs": []
    },
    {
      "cell_type": "code",
      "metadata": {
        "id": "1gEhFsTQh9lL",
        "colab_type": "code",
        "colab": {}
      },
      "source": [
        "# root mean square error (RMSE)\n",
        "def rmse(predictions, targets):\n",
        "    return np.sqrt(((predictions - targets) ** 2).mean())"
      ],
      "execution_count": 0,
      "outputs": []
    },
    {
      "cell_type": "code",
      "metadata": {
        "id": "ZAsnSuFtzpXa",
        "colab_type": "code",
        "colab": {}
      },
      "source": [
        "class RBF():\n",
        "  def __init__(self, k=5, learning_rate=0.01, epochs=100,rul_exc=False):\n",
        "    self.k = k\n",
        "    self.learning_rate = learning_rate\n",
        "    self.epochs = epochs\n",
        "    self.w = np.random.randn(self.k)\n",
        "    self.b = np.random.randn(1)\n",
        "    self.rul_exc = False\n",
        "    self.v = []\n",
        "  \n",
        "  # train RBF, update the weights and bias\n",
        "  def rbf(self,X,y,centroids,sh):\n",
        "    ph = np.zeros(self.k)\n",
        "    self.v = np.random.randn(len(X))\n",
        "    for epoch in range(self.epochs):\n",
        "      for i in range(len(X)):\n",
        "        for j in range(self.k):\n",
        "          ph[j] = np.exp(-1 * np.power(X[i] - centroids[j],2)/2*np.power(sh,2))\n",
        "        \n",
        "        # True if rules and exceptions are applied\n",
        "        if self.rul_exc == False:\n",
        "          yt = ph.T.dot(self.w) + self.b\n",
        "          #print('yt:',yt[0])\n",
        "        else:\n",
        "          yt = ph.T.dot(self.w) + v.T.dot(X) + self.b\n",
        "          \n",
        "        loss = (y[i] - yt[0])**2\n",
        "\n",
        "        # print('loss:',loss)\n",
        "\n",
        "        error = -(y[i] - yt[0])\n",
        "        #print('error:',error)\n",
        "        self.w = self.w - (self.learning_rate * ph * error)\n",
        "        self.b = self.b - (self.learning_rate * error)\n",
        "        self.v = self.v - (self.learning_rate * X *  error)\n",
        "\n",
        "  # train and predict to be used for the train data\n",
        "  def fit_predict(self,X,y):\n",
        "    centroids = kmeans(X,self.k)\n",
        "    sh = find_spread(centroids)\n",
        "    ph = np.zeros(self.k)\n",
        "    self.rbf(X,y,centroids,sh)\n",
        "    y_pred = []\n",
        "    for i in range(len(X)):\n",
        "      for j in range(self.k):\n",
        "        ph[j] = np.exp(-1 * np.power(X[i] - centroids[j],2)/2*np.power(sh,2))\n",
        "      \n",
        "      if self.rul_exc == False:\n",
        "        yt = ph.T.dot(self.w) + self.b\n",
        "      else:\n",
        "        yt = ph.T.dot(self.w) + self.v.T.dot(X) + self.b\n",
        "\n",
        "      y_pred.append(yt)\n",
        "    return np.array(y_pred)\n",
        "\n",
        "  # for the validation/test data (no training)\n",
        "  def predict(self,X,y):\n",
        "    centroids = kmeans(X,self.k)\n",
        "    ph = np.zeros(self.k)\n",
        "    sh = find_spread(centroids)\n",
        "    y_pred = []\n",
        "    for i in range(len(X)):\n",
        "      for j in range(self.k):\n",
        "        ph[j] = np.exp(-1 * np.power(X[i] - centroids[j],2)/2*np.power(sh,2))\n",
        "      \n",
        "      if self.rul_exc == False:\n",
        "        yt = ph.T.dot(self.w) + self.b\n",
        "      else:\n",
        "        yt = ph.T.dot(self.w) + self.v.T.dot(X) + self.b\n",
        "\n",
        "      y_pred.append(yt)\n",
        "    return np.array(y_pred)"
      ],
      "execution_count": 0,
      "outputs": []
    },
    {
      "cell_type": "code",
      "metadata": {
        "id": "HHTabp4NRGhe",
        "colab_type": "code",
        "colab": {}
      },
      "source": [
        "'''\n",
        "k = 3 is used to train the network, values starting from 9\n",
        "cause an overfit for the given data\n",
        "'''\n",
        "\n",
        "k=3\n",
        "rbf = RBF(k, learning_rate=0.01,epochs=100,rul_exc=False)\n",
        "y_pred_tra = rbf.fit_predict(df_train['X'].values,df_train['y'].values)\n",
        "y_pred_val = rbf.predict(df_val['X'].values,df_val['y'].values)"
      ],
      "execution_count": 0,
      "outputs": []
    },
    {
      "cell_type": "code",
      "metadata": {
        "id": "TCNLda7tagVI",
        "colab_type": "code",
        "outputId": "1a4373b0-2f56-4c12-dcf5-544a6c028b27",
        "colab": {
          "base_uri": "https://localhost:8080/",
          "height": 295
        }
      },
      "source": [
        "plot(df_train['X'].values,df_train['y'].values,y_pred_tra,k,train=True)"
      ],
      "execution_count": 0,
      "outputs": [
        {
          "output_type": "display_data",
          "data": {
            "image/png": "[encoded data removed]",
            "text/plain": [
              "<Figure size 432x288 with 1 Axes>"
            ]
          },
          "metadata": {
            "tags": [],
            "needs_background": "light"
          }
        }
      ]
    },
    {
      "cell_type": "code",
      "metadata": {
        "id": "qdHnydrucmc2",
        "colab_type": "code",
        "outputId": "43378939-065f-45bd-b319-3288c2f3fa53",
        "colab": {
          "base_uri": "https://localhost:8080/",
          "height": 295
        }
      },
      "source": [
        "plot(df_val['X'].values,df_val['y'].values,y_pred_val,k,train=False)"
      ],
      "execution_count": 0,
      "outputs": [
        {
          "output_type": "display_data",
          "data": {
            "image/png": "[encoded data removed]",
            "text/plain": [
              "<Figure size 432x288 with 1 Axes>"
            ]
          },
          "metadata": {
            "tags": [],
            "needs_background": "light"
          }
        }
      ]
    },
    {
      "cell_type": "code",
      "metadata": {
        "id": "n0maF8ZVgZwo",
        "colab_type": "code",
        "outputId": "c58ed6cd-8b30-4257-8489-7207181da936",
        "colab": {
          "base_uri": "https://localhost:8080/",
          "height": 34
        }
      },
      "source": [
        "# rmse for the train prediction vs actual data\n",
        "rmse(y_pred_tra,df_train['y'].values)"
      ],
      "execution_count": 0,
      "outputs": [
        {
          "output_type": "execute_result",
          "data": {
            "text/plain": [
              "9.592325313619176"
            ]
          },
          "metadata": {
            "tags": []
          },
          "execution_count": 142
        }
      ]
    },
    {
      "cell_type": "code",
      "metadata": {
        "id": "qpkTlcMCqder",
        "colab_type": "code",
        "outputId": "7e84c80a-7458-4166-d28e-363e7684630b",
        "colab": {
          "base_uri": "https://localhost:8080/",
          "height": 34
        }
      },
      "source": [
        "# rmse for the validation prediction vs actual data\n",
        "rmse(y_pred_val, df_val['y'].values)"
      ],
      "execution_count": 0,
      "outputs": [
        {
          "output_type": "execute_result",
          "data": {
            "text/plain": [
              "11.663072802327315"
            ]
          },
          "metadata": {
            "tags": []
          },
          "execution_count": 143
        }
      ]
    },
    {
      "cell_type": "code",
      "metadata": {
        "id": "yt9EBQWADD-6",
        "colab_type": "code",
        "colab": {}
      },
      "source": [
        "# loop 10 times for a given k value and return average rmse\n",
        "# rules and exceptions not applied\n",
        "def loop_rbf(k):\n",
        "  train_rmse = 0\n",
        "  \n",
        "  for i in range(10):\n",
        "    rbf = RBF(k, learning_rate=0.01,epochs=100,rul_exc=False)\n",
        "    y_pred_tra = rbf.fit_predict(df_train['X'].values,df_train['y'].values)\n",
        "    train_rmse += rmse(y_pred_tra,df_train['y'].values)\n",
        "  \n",
        "  return train_rmse/10\n",
        "\n",
        "# loop 10 times for a given k value and return average rmse\n",
        "# rules and exceptions applied\n",
        "def loop_rbf_rul(k):\n",
        "  train_rmse = 0\n",
        "  \n",
        "  for i in range(10):\n",
        "    rbf = RBF(k, learning_rate=0.01,epochs=100,rul_exc=True)\n",
        "    y_pred_tra = rbf.fit_predict(df_train['X'].values,df_train['y'].values)\n",
        "    train_rmse += rmse(y_pred_tra,df_train['y'].values)\n",
        "  \n",
        "  return train_rmse/10"
      ],
      "execution_count": 0,
      "outputs": []
    },
    {
      "cell_type": "code",
      "metadata": {
        "id": "5b2ri8kaKifj",
        "colab_type": "code",
        "colab": {}
      },
      "source": [
        "# average rmse values over a variety of cluster numbers are stored in separate lists\n",
        "H = [2,3,4,5,8,9]\n",
        "train_rmse = []\n",
        "train_rmse_rul = []\n",
        "val_rmse = []\n",
        "val_rmse_rul = []\n",
        "for k in H:\n",
        "  train_rmse.append(loop_rbf(k))\n",
        "  train_rmse_rul.append(loop_rbf_rul(k))\n",
        "  val_rmse.append(loop_rbf(k))\n",
        "  val_rmse_rul.append(loop_rbf_rul(k))"
      ],
      "execution_count": 0,
      "outputs": []
    },
    {
      "cell_type": "code",
      "metadata": {
        "id": "DnS7X133NM7E",
        "colab_type": "code",
        "outputId": "64e11032-1048-45a4-d891-bca916cdeb3f",
        "colab": {
          "base_uri": "https://localhost:8080/",
          "height": 295
        }
      },
      "source": [
        "plt.title('Train: w/out rules and exceptions')\n",
        "plt.xlabel('k')\n",
        "plt.ylabel('RMSE')\n",
        "plt.bar(H,train_rmse)\n",
        "plt.show()"
      ],
      "execution_count": 0,
      "outputs": [
        {
          "output_type": "display_data",
          "data": {
            "image/png": "[encoded data removed]",
            "text/plain": [
              "<Figure size 432x288 with 1 Axes>"
            ]
          },
          "metadata": {
            "tags": [],
            "needs_background": "light"
          }
        }
      ]
    },
    {
      "cell_type": "code",
      "metadata": {
        "id": "ql16qKHxNSCB",
        "colab_type": "code",
        "outputId": "857e7f75-e5a5-4395-a2d1-425c80280225",
        "colab": {
          "base_uri": "https://localhost:8080/",
          "height": 295
        }
      },
      "source": [
        "plt.title('Train: with rules and exceptions')\n",
        "plt.xlabel('k')\n",
        "plt.ylabel('RMSE')\n",
        "plt.bar(H,train_rmse_rul)\n",
        "plt.show()"
      ],
      "execution_count": 0,
      "outputs": [
        {
          "output_type": "display_data",
          "data": {
            "image/png": "[encoded data removed]",
            "text/plain": [
              "<Figure size 432x288 with 1 Axes>"
            ]
          },
          "metadata": {
            "tags": [],
            "needs_background": "light"
          }
        }
      ]
    },
    {
      "cell_type": "code",
      "metadata": {
        "id": "cjv-QRiGNYtb",
        "colab_type": "code",
        "outputId": "c2edff8f-bc61-4d1f-89f4-96bd703479b4",
        "colab": {
          "base_uri": "https://localhost:8080/",
          "height": 295
        }
      },
      "source": [
        "plt.title('Validation: w/out rules and exceptions')\n",
        "plt.xlabel('k')\n",
        "plt.ylabel('RMSE')\n",
        "plt.bar(H,val_rmse)\n",
        "plt.show()"
      ],
      "execution_count": 0,
      "outputs": [
        {
          "output_type": "display_data",
          "data": {
            "image/png": "[encoded data removed]",
            "text/plain": [
              "<Figure size 432x288 with 1 Axes>"
            ]
          },
          "metadata": {
            "tags": [],
            "needs_background": "light"
          }
        }
      ]
    },
    {
      "cell_type": "code",
      "metadata": {
        "id": "t7ambWg1P7F-",
        "colab_type": "code",
        "outputId": "5595af18-7a32-4995-abea-423ac8dce2ad",
        "colab": {
          "base_uri": "https://localhost:8080/",
          "height": 295
        }
      },
      "source": [
        "plt.title('Validation: with rules and exceptions')\n",
        "plt.xlabel('k')\n",
        "plt.ylabel('RMSE')\n",
        "plt.bar(H,val_rmse_rul)\n",
        "plt.show()"
      ],
      "execution_count": 0,
      "outputs": [
        {
          "output_type": "display_data",
          "data": {
            "image/png": "[encoded data removed]",
            "text/plain": [
              "<Figure size 432x288 with 1 Axes>"
            ]
          },
          "metadata": {
            "tags": [],
            "needs_background": "light"
          }
        }
      ]
    },
    {
      "cell_type": "code",
      "metadata": {
        "id": "z5IZ3HeFQA7H",
        "colab_type": "code",
        "colab": {}
      },
      "source": [
        ""
      ],
      "execution_count": 0,
      "outputs": []
    }
  ]
}